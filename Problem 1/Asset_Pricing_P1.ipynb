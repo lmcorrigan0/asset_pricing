{
 "cells": [
  {
   "cell_type": "code",
   "execution_count": 172,
   "metadata": {},
   "outputs": [],
   "source": [
    "import numpy as np\n",
    "import pandas as pd\n",
    "import statsmodels.api as sm\n",
    "import pandas_datareader as pdr\n",
    "import matplotlib as plt\n",
    "import openpyxl as opl\n",
    "import statistics as st\n",
    "import scipy as sp"
   ]
  },
  {
   "cell_type": "code",
   "execution_count": 173,
   "metadata": {},
   "outputs": [],
   "source": [
    "portfolio = pd.read_excel(r'C:\\Users\\aless\\OneDrive\\Desktop\\Oxford\\Courses\\Asset Pricing\\Assignment I\\25_Portfolios_5x5.xlsx', nrows= 1146, skiprows = 15, index_col = 0, parse_dates= True)"
   ]
  },
  {
   "cell_type": "code",
   "execution_count": 174,
   "metadata": {},
   "outputs": [],
   "source": [
    "portfolio = pd.DataFrame(portfolio)\n",
    "portfolio.index.names = ['DATE']"
   ]
  },
  {
   "cell_type": "markdown",
   "metadata": {},
   "source": [
    "CHANGE DATE INTO INTEGERS AND FORMAT AS YYYY/MM/DD"
   ]
  },
  {
   "cell_type": "code",
   "execution_count": 175,
   "metadata": {},
   "outputs": [],
   "source": [
    "portfolio.index.astype(int)\n",
    "portfolio.index // 100\n",
    "portfolio.index %100\n",
    "\n",
    "dates = []\n",
    "for value in portfolio.index:\n",
    "    year = value // 100\n",
    "    month = value % 100\n",
    "    dates.append(pd.Timestamp(year=year, month=month, day=1))\n",
    "portfolio.index = dates"
   ]
  },
  {
   "cell_type": "markdown",
   "metadata": {},
   "source": [
    "COMPUTE MONTHLY AVERAGE RETURNS AND CREATE TABLE"
   ]
  },
  {
   "cell_type": "code",
   "execution_count": 176,
   "metadata": {},
   "outputs": [],
   "source": [
    "p_return = pd.DataFrame()\n",
    "p_return['SUM'] = round(portfolio.mean(axis = 0),2)"
   ]
  },
  {
   "cell_type": "code",
   "execution_count": 177,
   "metadata": {},
   "outputs": [
    {
     "data": {
      "text/html": [
       "<div>\n",
       "<style scoped>\n",
       "    .dataframe tbody tr th:only-of-type {\n",
       "        vertical-align: middle;\n",
       "    }\n",
       "\n",
       "    .dataframe tbody tr th {\n",
       "        vertical-align: top;\n",
       "    }\n",
       "\n",
       "    .dataframe thead th {\n",
       "        text-align: right;\n",
       "    }\n",
       "</style>\n",
       "<table border=\"1\" class=\"dataframe\">\n",
       "  <thead>\n",
       "    <tr style=\"text-align: right;\">\n",
       "      <th></th>\n",
       "      <th>LoBM</th>\n",
       "      <th>BM2</th>\n",
       "      <th>BM3</th>\n",
       "      <th>BM4</th>\n",
       "      <th>HiBM</th>\n",
       "    </tr>\n",
       "  </thead>\n",
       "  <tbody>\n",
       "    <tr>\n",
       "      <th>SMALL</th>\n",
       "      <td>0.76</td>\n",
       "      <td>1.24</td>\n",
       "      <td>1.20</td>\n",
       "      <td>1.39</td>\n",
       "      <td>1.51</td>\n",
       "    </tr>\n",
       "    <tr>\n",
       "      <th>ME2</th>\n",
       "      <td>0.97</td>\n",
       "      <td>1.21</td>\n",
       "      <td>1.26</td>\n",
       "      <td>1.28</td>\n",
       "      <td>1.41</td>\n",
       "    </tr>\n",
       "    <tr>\n",
       "      <th>ME3</th>\n",
       "      <td>0.97</td>\n",
       "      <td>1.20</td>\n",
       "      <td>1.14</td>\n",
       "      <td>1.27</td>\n",
       "      <td>1.38</td>\n",
       "    </tr>\n",
       "    <tr>\n",
       "      <th>ME4</th>\n",
       "      <td>1.07</td>\n",
       "      <td>1.05</td>\n",
       "      <td>1.10</td>\n",
       "      <td>1.22</td>\n",
       "      <td>1.25</td>\n",
       "    </tr>\n",
       "    <tr>\n",
       "      <th>BIG</th>\n",
       "      <td>0.96</td>\n",
       "      <td>0.94</td>\n",
       "      <td>0.97</td>\n",
       "      <td>0.89</td>\n",
       "      <td>1.05</td>\n",
       "    </tr>\n",
       "  </tbody>\n",
       "</table>\n",
       "</div>"
      ],
      "text/plain": [
       "       LoBM   BM2   BM3   BM4  HiBM\n",
       "SMALL  0.76  1.24  1.20  1.39  1.51\n",
       "ME2    0.97  1.21  1.26  1.28  1.41\n",
       "ME3    0.97  1.20  1.14  1.27  1.38\n",
       "ME4    1.07  1.05  1.10  1.22  1.25\n",
       "BIG    0.96  0.94  0.97  0.89  1.05"
      ]
     },
     "execution_count": 177,
     "metadata": {},
     "output_type": "execute_result"
    }
   ],
   "source": [
    "p_return_table = pd.DataFrame()\n",
    "for i in range(0,21,5):\n",
    "    p_return_row = p_return.iloc[i:i+5].T\n",
    "    p_return_table = pd.concat([p_return_table, p_return_row])\n",
    "\n",
    "for i in range(0,5):\n",
    "    p_return_table.iloc[i,0:5] = p_return_table.iloc[i,5*i:5*(i+1)]\n",
    "\n",
    "p_return_table = p_return_table.iloc[:,:5]\n",
    "p_return_table.columns = ['LoBM', 'BM2', 'BM3', 'BM4', 'HiBM']\n",
    "p_return_table.index = ['SMALL', 'ME2', 'ME3', 'ME4', 'BIG']\n",
    "p_return_table"
   ]
  },
  {
   "cell_type": "markdown",
   "metadata": {},
   "source": [
    "COMPUTE MONTHLY BETA RETURNS AND CREATE TABLE"
   ]
  },
  {
   "cell_type": "code",
   "execution_count": 178,
   "metadata": {},
   "outputs": [],
   "source": [
    "mkt_return = pd.DataFrame()\n",
    "mkt_return['SUM'] = portfolio.mean(axis = 1)"
   ]
  },
  {
   "cell_type": "code",
   "execution_count": 191,
   "metadata": {},
   "outputs": [],
   "source": [
    "beta = []\n",
    "for i in portfolio.columns:\n",
    "    cov_returns_i = np.cov(portfolio[i], mkt_return['SUM'])\n",
    "    cov_returns_i = pd.DataFrame(cov_returns_i)\n",
    "    beta_i = round(cov_returns_i.iloc[0,1]/cov_returns_i.iloc[1,1],2)\n",
    "    beta.append(beta_i)\n",
    "\n",
    "beta = pd.DataFrame(beta)"
   ]
  },
  {
   "cell_type": "code",
   "execution_count": 192,
   "metadata": {},
   "outputs": [
    {
     "data": {
      "text/html": [
       "<div>\n",
       "<style scoped>\n",
       "    .dataframe tbody tr th:only-of-type {\n",
       "        vertical-align: middle;\n",
       "    }\n",
       "\n",
       "    .dataframe tbody tr th {\n",
       "        vertical-align: top;\n",
       "    }\n",
       "\n",
       "    .dataframe thead th {\n",
       "        text-align: right;\n",
       "    }\n",
       "</style>\n",
       "<table border=\"1\" class=\"dataframe\">\n",
       "  <thead>\n",
       "    <tr style=\"text-align: right;\">\n",
       "      <th></th>\n",
       "      <th>LoBM</th>\n",
       "      <th>BM2</th>\n",
       "      <th>BM3</th>\n",
       "      <th>BM4</th>\n",
       "      <th>HiBM</th>\n",
       "    </tr>\n",
       "  </thead>\n",
       "  <tbody>\n",
       "    <tr>\n",
       "      <th>SMALL</th>\n",
       "      <td>1.36</td>\n",
       "      <td>1.21</td>\n",
       "      <td>1.10</td>\n",
       "      <td>1.05</td>\n",
       "      <td>1.10</td>\n",
       "    </tr>\n",
       "    <tr>\n",
       "      <th>ME2</th>\n",
       "      <td>1.27</td>\n",
       "      <td>1.12</td>\n",
       "      <td>1.03</td>\n",
       "      <td>0.99</td>\n",
       "      <td>1.14</td>\n",
       "    </tr>\n",
       "    <tr>\n",
       "      <th>ME3</th>\n",
       "      <td>1.16</td>\n",
       "      <td>1.03</td>\n",
       "      <td>0.93</td>\n",
       "      <td>0.93</td>\n",
       "      <td>1.05</td>\n",
       "    </tr>\n",
       "    <tr>\n",
       "      <th>ME4</th>\n",
       "      <td>1.02</td>\n",
       "      <td>0.94</td>\n",
       "      <td>0.90</td>\n",
       "      <td>0.90</td>\n",
       "      <td>1.01</td>\n",
       "    </tr>\n",
       "    <tr>\n",
       "      <th>BIG</th>\n",
       "      <td>0.73</td>\n",
       "      <td>0.74</td>\n",
       "      <td>0.69</td>\n",
       "      <td>0.75</td>\n",
       "      <td>0.86</td>\n",
       "    </tr>\n",
       "  </tbody>\n",
       "</table>\n",
       "</div>"
      ],
      "text/plain": [
       "       LoBM   BM2   BM3   BM4  HiBM\n",
       "SMALL  1.36  1.21  1.10  1.05  1.10\n",
       "ME2    1.27  1.12  1.03  0.99  1.14\n",
       "ME3    1.16  1.03  0.93  0.93  1.05\n",
       "ME4    1.02  0.94  0.90  0.90  1.01\n",
       "BIG    0.73  0.74  0.69  0.75  0.86"
      ]
     },
     "execution_count": 192,
     "metadata": {},
     "output_type": "execute_result"
    }
   ],
   "source": [
    "beta_table = pd.DataFrame()\n",
    "for i in range(0,21,5):\n",
    "    beta_row = beta.iloc[i:i+5].T\n",
    "    beta_table = pd.concat([beta_table, beta_row])\n",
    "\n",
    "for i in range(0,5):\n",
    "    beta_table.iloc[i,0:5] = beta_table.iloc[i,5*i:5*(i+1)]\n",
    "\n",
    "beta_table = beta_table.iloc[:,:5]\n",
    "beta_table.columns = ['LoBM', 'BM2', 'BM3', 'BM4', 'HiBM']\n",
    "beta_table.index = ['SMALL', 'ME2', 'ME3', 'ME4', 'BIG']\n",
    "beta_table"
   ]
  },
  {
   "cell_type": "markdown",
   "metadata": {},
   "source": [
    "COMPUTE PORTFOLIOS STDEV"
   ]
  },
  {
   "cell_type": "code",
   "execution_count": 181,
   "metadata": {},
   "outputs": [],
   "source": [
    "stdev = []\n",
    "for i in portfolio.columns:\n",
    "    stdev_returns_i = round(np.sqrt(st.variance(portfolio[i])),2)\n",
    "    stdev.append(stdev_returns_i)\n",
    "\n",
    "stdev = pd.DataFrame(stdev)"
   ]
  },
  {
   "cell_type": "code",
   "execution_count": 182,
   "metadata": {},
   "outputs": [
    {
     "data": {
      "text/html": [
       "<div>\n",
       "<style scoped>\n",
       "    .dataframe tbody tr th:only-of-type {\n",
       "        vertical-align: middle;\n",
       "    }\n",
       "\n",
       "    .dataframe tbody tr th {\n",
       "        vertical-align: top;\n",
       "    }\n",
       "\n",
       "    .dataframe thead th {\n",
       "        text-align: right;\n",
       "    }\n",
       "</style>\n",
       "<table border=\"1\" class=\"dataframe\">\n",
       "  <thead>\n",
       "    <tr style=\"text-align: right;\">\n",
       "      <th></th>\n",
       "      <th>LoBM</th>\n",
       "      <th>BM2</th>\n",
       "      <th>BM3</th>\n",
       "      <th>BM4</th>\n",
       "      <th>HiBM</th>\n",
       "    </tr>\n",
       "  </thead>\n",
       "  <tbody>\n",
       "    <tr>\n",
       "      <th>SMALL</th>\n",
       "      <td>7.96</td>\n",
       "      <td>6.97</td>\n",
       "      <td>6.05</td>\n",
       "      <td>5.84</td>\n",
       "      <td>6.30</td>\n",
       "    </tr>\n",
       "    <tr>\n",
       "      <th>ME2</th>\n",
       "      <td>7.16</td>\n",
       "      <td>6.04</td>\n",
       "      <td>5.52</td>\n",
       "      <td>5.36</td>\n",
       "      <td>6.22</td>\n",
       "    </tr>\n",
       "    <tr>\n",
       "      <th>ME3</th>\n",
       "      <td>6.56</td>\n",
       "      <td>5.51</td>\n",
       "      <td>5.03</td>\n",
       "      <td>5.10</td>\n",
       "      <td>5.86</td>\n",
       "    </tr>\n",
       "    <tr>\n",
       "      <th>ME4</th>\n",
       "      <td>5.83</td>\n",
       "      <td>5.13</td>\n",
       "      <td>4.97</td>\n",
       "      <td>5.04</td>\n",
       "      <td>5.81</td>\n",
       "    </tr>\n",
       "    <tr>\n",
       "      <th>BIG</th>\n",
       "      <td>4.62</td>\n",
       "      <td>4.40</td>\n",
       "      <td>4.31</td>\n",
       "      <td>4.75</td>\n",
       "      <td>5.64</td>\n",
       "    </tr>\n",
       "  </tbody>\n",
       "</table>\n",
       "</div>"
      ],
      "text/plain": [
       "       LoBM   BM2   BM3   BM4  HiBM\n",
       "SMALL  7.96  6.97  6.05  5.84  6.30\n",
       "ME2    7.16  6.04  5.52  5.36  6.22\n",
       "ME3    6.56  5.51  5.03  5.10  5.86\n",
       "ME4    5.83  5.13  4.97  5.04  5.81\n",
       "BIG    4.62  4.40  4.31  4.75  5.64"
      ]
     },
     "execution_count": 182,
     "metadata": {},
     "output_type": "execute_result"
    }
   ],
   "source": [
    "stdev_table = pd.DataFrame()\n",
    "for i in range(0,5):\n",
    "    stdev_row = stdev.iloc[5*i:5*(i+1)].T\n",
    "    stdev_table = pd.concat([stdev_table, stdev_row])\n",
    "\n",
    "for i in range(0,5):\n",
    "    stdev_table.iloc[i,0:5] = stdev_table.iloc[i,5*i:5*(i+1)]\n",
    "\n",
    "stdev_table = stdev_table.iloc[:,:5]\n",
    "stdev_table.columns = ['LoBM', 'BM2', 'BM3', 'BM4', 'HiBM']\n",
    "stdev_table.index = ['SMALL', 'ME2', 'ME3', 'ME4', 'BIG']\n",
    "stdev_table"
   ]
  },
  {
   "cell_type": "markdown",
   "metadata": {},
   "source": [
    "COMPUTE PORTFOLIOS SHARPE RATIOS"
   ]
  },
  {
   "cell_type": "code",
   "execution_count": 183,
   "metadata": {},
   "outputs": [],
   "source": [
    "risk_free = pd.read_excel(r'C:\\Users\\aless\\OneDrive\\Desktop\\Oxford\\Courses\\Asset Pricing\\Assignment I\\RF_Data.xlsx', nrows= 1146, skiprows = 0, index_col = 0, parse_dates= True)\n",
    "avg_risk_free = risk_free['RF'].mean()"
   ]
  },
  {
   "cell_type": "code",
   "execution_count": 184,
   "metadata": {},
   "outputs": [],
   "source": [
    "avg_returns = []\n",
    "for i in portfolio.columns:\n",
    "    avg_returns_i = round(np.mean(portfolio[i]),2)\n",
    "    avg_returns.append(avg_returns_i)\n",
    "\n",
    "avg_returns = pd.DataFrame(avg_returns)"
   ]
  },
  {
   "cell_type": "code",
   "execution_count": 185,
   "metadata": {},
   "outputs": [
    {
     "data": {
      "text/html": [
       "<div>\n",
       "<style scoped>\n",
       "    .dataframe tbody tr th:only-of-type {\n",
       "        vertical-align: middle;\n",
       "    }\n",
       "\n",
       "    .dataframe tbody tr th {\n",
       "        vertical-align: top;\n",
       "    }\n",
       "\n",
       "    .dataframe thead th {\n",
       "        text-align: right;\n",
       "    }\n",
       "</style>\n",
       "<table border=\"1\" class=\"dataframe\">\n",
       "  <thead>\n",
       "    <tr style=\"text-align: right;\">\n",
       "      <th></th>\n",
       "      <th>LoBM</th>\n",
       "      <th>BM2</th>\n",
       "      <th>BM3</th>\n",
       "      <th>BM4</th>\n",
       "      <th>HiBM</th>\n",
       "    </tr>\n",
       "  </thead>\n",
       "  <tbody>\n",
       "    <tr>\n",
       "      <th>SMALL</th>\n",
       "      <td>0.76</td>\n",
       "      <td>1.24</td>\n",
       "      <td>1.20</td>\n",
       "      <td>1.39</td>\n",
       "      <td>1.51</td>\n",
       "    </tr>\n",
       "    <tr>\n",
       "      <th>ME2</th>\n",
       "      <td>0.97</td>\n",
       "      <td>1.21</td>\n",
       "      <td>1.26</td>\n",
       "      <td>1.28</td>\n",
       "      <td>1.41</td>\n",
       "    </tr>\n",
       "    <tr>\n",
       "      <th>ME3</th>\n",
       "      <td>0.97</td>\n",
       "      <td>1.20</td>\n",
       "      <td>1.14</td>\n",
       "      <td>1.27</td>\n",
       "      <td>1.38</td>\n",
       "    </tr>\n",
       "    <tr>\n",
       "      <th>ME4</th>\n",
       "      <td>1.07</td>\n",
       "      <td>1.05</td>\n",
       "      <td>1.10</td>\n",
       "      <td>1.22</td>\n",
       "      <td>1.25</td>\n",
       "    </tr>\n",
       "    <tr>\n",
       "      <th>BIG</th>\n",
       "      <td>0.96</td>\n",
       "      <td>0.94</td>\n",
       "      <td>0.97</td>\n",
       "      <td>0.89</td>\n",
       "      <td>1.05</td>\n",
       "    </tr>\n",
       "  </tbody>\n",
       "</table>\n",
       "</div>"
      ],
      "text/plain": [
       "       LoBM   BM2   BM3   BM4  HiBM\n",
       "SMALL  0.76  1.24  1.20  1.39  1.51\n",
       "ME2    0.97  1.21  1.26  1.28  1.41\n",
       "ME3    0.97  1.20  1.14  1.27  1.38\n",
       "ME4    1.07  1.05  1.10  1.22  1.25\n",
       "BIG    0.96  0.94  0.97  0.89  1.05"
      ]
     },
     "execution_count": 185,
     "metadata": {},
     "output_type": "execute_result"
    }
   ],
   "source": [
    "avg_returns_table = pd.DataFrame()\n",
    "for i in range(0,5):\n",
    "    avg_returns_row = avg_returns.iloc[5*i:5*(i+1)].T\n",
    "    avg_returns_table = pd.concat([avg_returns_table, avg_returns_row])\n",
    "\n",
    "for i in range(0,5):\n",
    "    avg_returns_table.iloc[i,0:5] = avg_returns_table.iloc[i,5*i:5*(i+1)]\n",
    "\n",
    "avg_returns_table = avg_returns_table.iloc[:,:5]\n",
    "avg_returns_table.columns = ['LoBM', 'BM2', 'BM3', 'BM4', 'HiBM']\n",
    "avg_returns_table.index = ['SMALL', 'ME2', 'ME3', 'ME4', 'BIG']\n",
    "avg_returns_table"
   ]
  },
  {
   "cell_type": "code",
   "execution_count": 186,
   "metadata": {},
   "outputs": [],
   "source": [
    "sharpe_ratio = []\n",
    "for i in range(0,5):\n",
    "    for j in range(0,5):\n",
    "        sharpe_ratio_ij = round((avg_returns_table.iloc[i,j] - avg_risk_free)/stdev_table.iloc[i,j],2)\n",
    "        sharpe_ratio.append(sharpe_ratio_ij)\n",
    "    \n",
    "sharpe_ratio = pd.DataFrame(sharpe_ratio)"
   ]
  },
  {
   "cell_type": "code",
   "execution_count": 187,
   "metadata": {},
   "outputs": [
    {
     "data": {
      "text/html": [
       "<div>\n",
       "<style scoped>\n",
       "    .dataframe tbody tr th:only-of-type {\n",
       "        vertical-align: middle;\n",
       "    }\n",
       "\n",
       "    .dataframe tbody tr th {\n",
       "        vertical-align: top;\n",
       "    }\n",
       "\n",
       "    .dataframe thead th {\n",
       "        text-align: right;\n",
       "    }\n",
       "</style>\n",
       "<table border=\"1\" class=\"dataframe\">\n",
       "  <thead>\n",
       "    <tr style=\"text-align: right;\">\n",
       "      <th></th>\n",
       "      <th>LoBM</th>\n",
       "      <th>BM2</th>\n",
       "      <th>BM3</th>\n",
       "      <th>BM4</th>\n",
       "      <th>HiBM</th>\n",
       "    </tr>\n",
       "  </thead>\n",
       "  <tbody>\n",
       "    <tr>\n",
       "      <th>SMALL</th>\n",
       "      <td>0.05</td>\n",
       "      <td>0.12</td>\n",
       "      <td>0.14</td>\n",
       "      <td>0.17</td>\n",
       "      <td>0.18</td>\n",
       "    </tr>\n",
       "    <tr>\n",
       "      <th>ME2</th>\n",
       "      <td>0.08</td>\n",
       "      <td>0.14</td>\n",
       "      <td>0.16</td>\n",
       "      <td>0.17</td>\n",
       "      <td>0.17</td>\n",
       "    </tr>\n",
       "    <tr>\n",
       "      <th>ME3</th>\n",
       "      <td>0.09</td>\n",
       "      <td>0.15</td>\n",
       "      <td>0.15</td>\n",
       "      <td>0.18</td>\n",
       "      <td>0.17</td>\n",
       "    </tr>\n",
       "    <tr>\n",
       "      <th>ME4</th>\n",
       "      <td>0.12</td>\n",
       "      <td>0.13</td>\n",
       "      <td>0.15</td>\n",
       "      <td>0.17</td>\n",
       "      <td>0.15</td>\n",
       "    </tr>\n",
       "    <tr>\n",
       "      <th>BIG</th>\n",
       "      <td>0.13</td>\n",
       "      <td>0.13</td>\n",
       "      <td>0.14</td>\n",
       "      <td>0.11</td>\n",
       "      <td>0.12</td>\n",
       "    </tr>\n",
       "  </tbody>\n",
       "</table>\n",
       "</div>"
      ],
      "text/plain": [
       "       LoBM   BM2   BM3   BM4  HiBM\n",
       "SMALL  0.05  0.12  0.14  0.17  0.18\n",
       "ME2    0.08  0.14  0.16  0.17  0.17\n",
       "ME3    0.09  0.15  0.15  0.18  0.17\n",
       "ME4    0.12  0.13  0.15  0.17  0.15\n",
       "BIG    0.13  0.13  0.14  0.11  0.12"
      ]
     },
     "execution_count": 187,
     "metadata": {},
     "output_type": "execute_result"
    }
   ],
   "source": [
    "sharpe_ratio_table = pd.DataFrame()\n",
    "for i in range(0,5):\n",
    "    sharpe_ratio_row = sharpe_ratio.iloc[5*i:5*(i+1)].T\n",
    "    sharpe_ratio_table = pd.concat([sharpe_ratio_table, sharpe_ratio_row])\n",
    "\n",
    "for i in range(0,5):\n",
    "    sharpe_ratio_table.iloc[i,0:5] = sharpe_ratio_table.iloc[i,5*i:5*(i+1)]\n",
    "\n",
    "sharpe_ratio_table = sharpe_ratio_table.iloc[:,:5]\n",
    "sharpe_ratio_table.columns = ['LoBM', 'BM2', 'BM3', 'BM4', 'HiBM']\n",
    "sharpe_ratio_table.index = ['SMALL', 'ME2', 'ME3', 'ME4', 'BIG']\n",
    "sharpe_ratio_table"
   ]
  },
  {
   "cell_type": "markdown",
   "metadata": {},
   "source": [
    "COMPUTE T-STATISTICS FOR EACH PORTFOLIO"
   ]
  },
  {
   "cell_type": "code",
   "execution_count": 188,
   "metadata": {},
   "outputs": [],
   "source": [
    "true_mean = 0\n",
    "t_statistic = []\n",
    "for i in range(0,5):\n",
    "    for j in range(0,5):\n",
    "        t_ij = round((avg_returns_table.iloc[i,j] - true_mean)/stdev_table.iloc[i,j],2)\n",
    "        t_statistic.append(t_ij)\n",
    "\n",
    "t_statistic = pd.DataFrame(t_statistic)"
   ]
  },
  {
   "cell_type": "code",
   "execution_count": 189,
   "metadata": {},
   "outputs": [
    {
     "data": {
      "text/html": [
       "<div>\n",
       "<style scoped>\n",
       "    .dataframe tbody tr th:only-of-type {\n",
       "        vertical-align: middle;\n",
       "    }\n",
       "\n",
       "    .dataframe tbody tr th {\n",
       "        vertical-align: top;\n",
       "    }\n",
       "\n",
       "    .dataframe thead th {\n",
       "        text-align: right;\n",
       "    }\n",
       "</style>\n",
       "<table border=\"1\" class=\"dataframe\">\n",
       "  <thead>\n",
       "    <tr style=\"text-align: right;\">\n",
       "      <th></th>\n",
       "      <th>LoBM</th>\n",
       "      <th>BM2</th>\n",
       "      <th>BM3</th>\n",
       "      <th>BM4</th>\n",
       "      <th>HiBM</th>\n",
       "    </tr>\n",
       "  </thead>\n",
       "  <tbody>\n",
       "    <tr>\n",
       "      <th>SMALL</th>\n",
       "      <td>0.10</td>\n",
       "      <td>0.18</td>\n",
       "      <td>0.20</td>\n",
       "      <td>0.24</td>\n",
       "      <td>0.24</td>\n",
       "    </tr>\n",
       "    <tr>\n",
       "      <th>ME2</th>\n",
       "      <td>0.14</td>\n",
       "      <td>0.20</td>\n",
       "      <td>0.23</td>\n",
       "      <td>0.24</td>\n",
       "      <td>0.23</td>\n",
       "    </tr>\n",
       "    <tr>\n",
       "      <th>ME3</th>\n",
       "      <td>0.15</td>\n",
       "      <td>0.22</td>\n",
       "      <td>0.23</td>\n",
       "      <td>0.25</td>\n",
       "      <td>0.24</td>\n",
       "    </tr>\n",
       "    <tr>\n",
       "      <th>ME4</th>\n",
       "      <td>0.18</td>\n",
       "      <td>0.20</td>\n",
       "      <td>0.22</td>\n",
       "      <td>0.24</td>\n",
       "      <td>0.22</td>\n",
       "    </tr>\n",
       "    <tr>\n",
       "      <th>BIG</th>\n",
       "      <td>0.21</td>\n",
       "      <td>0.21</td>\n",
       "      <td>0.23</td>\n",
       "      <td>0.19</td>\n",
       "      <td>0.19</td>\n",
       "    </tr>\n",
       "  </tbody>\n",
       "</table>\n",
       "</div>"
      ],
      "text/plain": [
       "       LoBM   BM2   BM3   BM4  HiBM\n",
       "SMALL  0.10  0.18  0.20  0.24  0.24\n",
       "ME2    0.14  0.20  0.23  0.24  0.23\n",
       "ME3    0.15  0.22  0.23  0.25  0.24\n",
       "ME4    0.18  0.20  0.22  0.24  0.22\n",
       "BIG    0.21  0.21  0.23  0.19  0.19"
      ]
     },
     "execution_count": 189,
     "metadata": {},
     "output_type": "execute_result"
    }
   ],
   "source": [
    "t_statistic_table = pd.DataFrame()\n",
    "for i in range(0,5):\n",
    "    t_statistic_row = t_statistic.iloc[5*i:5*(i+1)].T\n",
    "    t_statistic_table = pd.concat([t_statistic_table, t_statistic_row])\n",
    "\n",
    "for i in range(0,5):\n",
    "    t_statistic_table.iloc[i,0:5] = t_statistic_table.iloc[i,5*i:5*(i+1)]\n",
    "\n",
    "t_statistic_table = t_statistic_table.iloc[:,:5]\n",
    "t_statistic_table.columns = ['LoBM', 'BM2', 'BM3', 'BM4', 'HiBM']\n",
    "t_statistic_table.index = ['SMALL', 'ME2', 'ME3', 'ME4', 'BIG']\n",
    "t_statistic_table"
   ]
  },
  {
   "cell_type": "code",
   "execution_count": 190,
   "metadata": {},
   "outputs": [
    {
     "ename": "NameError",
     "evalue": "name 't_statistic_q5_minus_q1' is not defined",
     "output_type": "error",
     "traceback": [
      "\u001b[1;31m---------------------------------------------------------------------------\u001b[0m",
      "\u001b[1;31mNameError\u001b[0m                                 Traceback (most recent call last)",
      "\u001b[1;32m~\\AppData\\Local\\Temp/ipykernel_14740/1284165898.py\u001b[0m in \u001b[0;36m<module>\u001b[1;34m\u001b[0m\n\u001b[0;32m      3\u001b[0m \u001b[0mstdev_q5_minus_q1\u001b[0m \u001b[1;33m=\u001b[0m \u001b[0mnp\u001b[0m\u001b[1;33m.\u001b[0m\u001b[0msqrt\u001b[0m\u001b[1;33m(\u001b[0m\u001b[0mst\u001b[0m\u001b[1;33m.\u001b[0m\u001b[0mvariance\u001b[0m\u001b[1;33m(\u001b[0m\u001b[0mq5_minus_q1\u001b[0m\u001b[1;33m)\u001b[0m\u001b[1;33m)\u001b[0m\u001b[1;33m\u001b[0m\u001b[1;33m\u001b[0m\u001b[0m\n\u001b[0;32m      4\u001b[0m \u001b[1;33m\u001b[0m\u001b[0m\n\u001b[1;32m----> 5\u001b[1;33m \u001b[0mt_statistic_q5_minus_q1\u001b[0m\u001b[1;33m\u001b[0m\u001b[1;33m\u001b[0m\u001b[0m\n\u001b[0m",
      "\u001b[1;31mNameError\u001b[0m: name 't_statistic_q5_minus_q1' is not defined"
     ]
    }
   ],
   "source": [
    "q5_minus_q1 = portfolio['BIG HiBM'] - portfolio['SMALL LoBM']\n",
    "avg_q5_minus_q1 = np.mean(q5_minus_q1)\n",
    "stdev_q5_minus_q1 = np.sqrt(st.variance(q5_minus_q1))\n",
    "\n",
    "t_statistic_q5_minus_q1"
   ]
  },
  {
   "cell_type": "code",
   "execution_count": null,
   "metadata": {},
   "outputs": [],
   "source": []
  }
 ],
 "metadata": {
  "interpreter": {
   "hash": "9893d0d66172980042d4d5dae4d7be4a6b30989c1ec411bdce01437cbe181d3a"
  },
  "kernelspec": {
   "display_name": "Python 3.8.12 64-bit ('mfe': conda)",
   "language": "python",
   "name": "python3"
  },
  "language_info": {
   "codemirror_mode": {
    "name": "ipython",
    "version": 3
   },
   "file_extension": ".py",
   "mimetype": "text/x-python",
   "name": "python",
   "nbconvert_exporter": "python",
   "pygments_lexer": "ipython3",
   "version": "3.8.12"
  },
  "orig_nbformat": 4
 },
 "nbformat": 4,
 "nbformat_minor": 2
}
