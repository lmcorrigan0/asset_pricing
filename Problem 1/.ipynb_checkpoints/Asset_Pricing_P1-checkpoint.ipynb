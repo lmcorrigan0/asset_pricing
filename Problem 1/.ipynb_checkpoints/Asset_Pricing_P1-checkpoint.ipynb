{
 "cells": [
  {
   "cell_type": "code",
   "execution_count": 1,
   "metadata": {},
   "outputs": [],
   "source": [
    "import numpy as np\n",
    "import pandas as pd\n",
    "import statsmodels.api as sm\n",
    "import pandas_datareader as pdr\n",
    "import matplotlib as plt\n",
    "import openpyxl as opl\n",
    "import statistics as st\n",
    "import scipy as sp"
   ]
  },
  {
   "cell_type": "code",
   "execution_count": 20,
   "metadata": {},
   "outputs": [],
   "source": [
    "portfolio = pd.read_csv('25_Portfolios_5x5.csv',parse_dates= True,index_col='DATE',infer_datetime_format=True)\n",
    "portfolio.index = pd.to_datetime(portfolio.index,format=\"%Y%m\")"
   ]
  },
  {
   "cell_type": "markdown",
   "metadata": {},
   "source": [
    "### COMPUTE MONTHLY AVERAGE RETURNS AND CREATE TABLE"
   ]
  },
  {
   "cell_type": "code",
   "execution_count": 25,
   "metadata": {},
   "outputs": [],
   "source": [
    "p_return = pd.DataFrame()\n",
    "p_return['SUM'] = round(portfolio.mean(axis = 0),2)"
   ]
  },
  {
   "cell_type": "code",
   "execution_count": 68,
   "metadata": {},
   "outputs": [],
   "source": [
    "def create_table(values_df,columns=['LoBM', 'BM2', 'BM3', 'BM4', 'HiBM'],indices = ['SMALL', 'ME2', 'ME3', 'ME4', 'BIG']):\n",
    "    table = pd.DataFrame(columns=columns)\n",
    "    for i in range(0,len(p_return),5):\n",
    "        row = pd.DataFrame(values_df.iloc[i:i+5].T.values,columns=columns)\n",
    "        table = table.append(row)\n",
    "\n",
    "    table.index = indices\n",
    "    return(table)"
   ]
  },
  {
   "cell_type": "code",
   "execution_count": 69,
   "metadata": {},
   "outputs": [
    {
     "data": {
      "text/html": [
       "<div>\n",
       "<style scoped>\n",
       "    .dataframe tbody tr th:only-of-type {\n",
       "        vertical-align: middle;\n",
       "    }\n",
       "\n",
       "    .dataframe tbody tr th {\n",
       "        vertical-align: top;\n",
       "    }\n",
       "\n",
       "    .dataframe thead th {\n",
       "        text-align: right;\n",
       "    }\n",
       "</style>\n",
       "<table border=\"1\" class=\"dataframe\">\n",
       "  <thead>\n",
       "    <tr style=\"text-align: right;\">\n",
       "      <th></th>\n",
       "      <th>LoBM</th>\n",
       "      <th>BM2</th>\n",
       "      <th>BM3</th>\n",
       "      <th>BM4</th>\n",
       "      <th>HiBM</th>\n",
       "    </tr>\n",
       "  </thead>\n",
       "  <tbody>\n",
       "    <tr>\n",
       "      <th>SMALL</th>\n",
       "      <td>0.76</td>\n",
       "      <td>1.24</td>\n",
       "      <td>1.20</td>\n",
       "      <td>1.39</td>\n",
       "      <td>1.51</td>\n",
       "    </tr>\n",
       "    <tr>\n",
       "      <th>ME2</th>\n",
       "      <td>0.97</td>\n",
       "      <td>1.21</td>\n",
       "      <td>1.26</td>\n",
       "      <td>1.28</td>\n",
       "      <td>1.41</td>\n",
       "    </tr>\n",
       "    <tr>\n",
       "      <th>ME3</th>\n",
       "      <td>0.97</td>\n",
       "      <td>1.20</td>\n",
       "      <td>1.14</td>\n",
       "      <td>1.27</td>\n",
       "      <td>1.38</td>\n",
       "    </tr>\n",
       "    <tr>\n",
       "      <th>ME4</th>\n",
       "      <td>1.07</td>\n",
       "      <td>1.05</td>\n",
       "      <td>1.10</td>\n",
       "      <td>1.22</td>\n",
       "      <td>1.25</td>\n",
       "    </tr>\n",
       "    <tr>\n",
       "      <th>BIG</th>\n",
       "      <td>0.96</td>\n",
       "      <td>0.94</td>\n",
       "      <td>0.97</td>\n",
       "      <td>0.89</td>\n",
       "      <td>1.05</td>\n",
       "    </tr>\n",
       "  </tbody>\n",
       "</table>\n",
       "</div>"
      ],
      "text/plain": [
       "       LoBM   BM2   BM3   BM4  HiBM\n",
       "SMALL  0.76  1.24  1.20  1.39  1.51\n",
       "ME2    0.97  1.21  1.26  1.28  1.41\n",
       "ME3    0.97  1.20  1.14  1.27  1.38\n",
       "ME4    1.07  1.05  1.10  1.22  1.25\n",
       "BIG    0.96  0.94  0.97  0.89  1.05"
      ]
     },
     "execution_count": 69,
     "metadata": {},
     "output_type": "execute_result"
    }
   ],
   "source": [
    "#creates return table from sum table\n",
    "p_return_table = create_table(p_return)\n",
    "p_return_table"
   ]
  },
  {
   "cell_type": "markdown",
   "metadata": {},
   "source": [
    "### COMPUTE MONTHLY BETA RETURNS AND CREATE TABLE"
   ]
  },
  {
   "cell_type": "code",
   "execution_count": 61,
   "metadata": {},
   "outputs": [],
   "source": [
    "mkt_return = pd.DataFrame()\n",
    "mkt_return['SUM'] = portfolio.mean(axis = 1)"
   ]
  },
  {
   "cell_type": "code",
   "execution_count": 62,
   "metadata": {},
   "outputs": [],
   "source": [
    "beta = []\n",
    "for i in portfolio.columns:\n",
    "    cov_returns_i = np.cov(portfolio[i], mkt_return['SUM'])\n",
    "    cov_returns_i = pd.DataFrame(cov_returns_i)\n",
    "    beta_i = round(cov_returns_i.iloc[0,1]/cov_returns_i.iloc[1,1],2)\n",
    "    beta.append(beta_i)\n",
    "\n",
    "beta = pd.DataFrame(beta)"
   ]
  },
  {
   "cell_type": "code",
   "execution_count": 70,
   "metadata": {},
   "outputs": [
    {
     "data": {
      "text/html": [
       "<div>\n",
       "<style scoped>\n",
       "    .dataframe tbody tr th:only-of-type {\n",
       "        vertical-align: middle;\n",
       "    }\n",
       "\n",
       "    .dataframe tbody tr th {\n",
       "        vertical-align: top;\n",
       "    }\n",
       "\n",
       "    .dataframe thead th {\n",
       "        text-align: right;\n",
       "    }\n",
       "</style>\n",
       "<table border=\"1\" class=\"dataframe\">\n",
       "  <thead>\n",
       "    <tr style=\"text-align: right;\">\n",
       "      <th></th>\n",
       "      <th>LoBM</th>\n",
       "      <th>BM2</th>\n",
       "      <th>BM3</th>\n",
       "      <th>BM4</th>\n",
       "      <th>HiBM</th>\n",
       "    </tr>\n",
       "  </thead>\n",
       "  <tbody>\n",
       "    <tr>\n",
       "      <th>SMALL</th>\n",
       "      <td>1.36</td>\n",
       "      <td>1.21</td>\n",
       "      <td>1.10</td>\n",
       "      <td>1.05</td>\n",
       "      <td>1.10</td>\n",
       "    </tr>\n",
       "    <tr>\n",
       "      <th>ME2</th>\n",
       "      <td>1.27</td>\n",
       "      <td>1.12</td>\n",
       "      <td>1.03</td>\n",
       "      <td>0.99</td>\n",
       "      <td>1.14</td>\n",
       "    </tr>\n",
       "    <tr>\n",
       "      <th>ME3</th>\n",
       "      <td>1.16</td>\n",
       "      <td>1.03</td>\n",
       "      <td>0.93</td>\n",
       "      <td>0.93</td>\n",
       "      <td>1.05</td>\n",
       "    </tr>\n",
       "    <tr>\n",
       "      <th>ME4</th>\n",
       "      <td>1.02</td>\n",
       "      <td>0.94</td>\n",
       "      <td>0.90</td>\n",
       "      <td>0.90</td>\n",
       "      <td>1.01</td>\n",
       "    </tr>\n",
       "    <tr>\n",
       "      <th>BIG</th>\n",
       "      <td>0.73</td>\n",
       "      <td>0.74</td>\n",
       "      <td>0.69</td>\n",
       "      <td>0.75</td>\n",
       "      <td>0.86</td>\n",
       "    </tr>\n",
       "  </tbody>\n",
       "</table>\n",
       "</div>"
      ],
      "text/plain": [
       "       LoBM   BM2   BM3   BM4  HiBM\n",
       "SMALL  1.36  1.21  1.10  1.05  1.10\n",
       "ME2    1.27  1.12  1.03  0.99  1.14\n",
       "ME3    1.16  1.03  0.93  0.93  1.05\n",
       "ME4    1.02  0.94  0.90  0.90  1.01\n",
       "BIG    0.73  0.74  0.69  0.75  0.86"
      ]
     },
     "execution_count": 70,
     "metadata": {},
     "output_type": "execute_result"
    }
   ],
   "source": [
    "#creates beta table from sum table\n",
    "beta_table = create_table(beta)\n",
    "beta_table"
   ]
  },
  {
   "cell_type": "markdown",
   "metadata": {},
   "source": [
    "### COMPUTE PORTFOLIOS STDEV"
   ]
  },
  {
   "cell_type": "code",
   "execution_count": 72,
   "metadata": {},
   "outputs": [],
   "source": [
    "stdev = []\n",
    "for i in portfolio.columns:\n",
    "    stdev_returns_i = round(np.sqrt(st.variance(portfolio[i])),2)\n",
    "    stdev.append(stdev_returns_i)\n",
    "\n",
    "stdev = pd.DataFrame(stdev)"
   ]
  },
  {
   "cell_type": "code",
   "execution_count": 73,
   "metadata": {},
   "outputs": [
    {
     "data": {
      "text/html": [
       "<div>\n",
       "<style scoped>\n",
       "    .dataframe tbody tr th:only-of-type {\n",
       "        vertical-align: middle;\n",
       "    }\n",
       "\n",
       "    .dataframe tbody tr th {\n",
       "        vertical-align: top;\n",
       "    }\n",
       "\n",
       "    .dataframe thead th {\n",
       "        text-align: right;\n",
       "    }\n",
       "</style>\n",
       "<table border=\"1\" class=\"dataframe\">\n",
       "  <thead>\n",
       "    <tr style=\"text-align: right;\">\n",
       "      <th></th>\n",
       "      <th>LoBM</th>\n",
       "      <th>BM2</th>\n",
       "      <th>BM3</th>\n",
       "      <th>BM4</th>\n",
       "      <th>HiBM</th>\n",
       "    </tr>\n",
       "  </thead>\n",
       "  <tbody>\n",
       "    <tr>\n",
       "      <th>SMALL</th>\n",
       "      <td>7.96</td>\n",
       "      <td>6.97</td>\n",
       "      <td>6.05</td>\n",
       "      <td>5.84</td>\n",
       "      <td>6.30</td>\n",
       "    </tr>\n",
       "    <tr>\n",
       "      <th>ME2</th>\n",
       "      <td>7.16</td>\n",
       "      <td>6.04</td>\n",
       "      <td>5.52</td>\n",
       "      <td>5.36</td>\n",
       "      <td>6.22</td>\n",
       "    </tr>\n",
       "    <tr>\n",
       "      <th>ME3</th>\n",
       "      <td>6.56</td>\n",
       "      <td>5.51</td>\n",
       "      <td>5.03</td>\n",
       "      <td>5.10</td>\n",
       "      <td>5.86</td>\n",
       "    </tr>\n",
       "    <tr>\n",
       "      <th>ME4</th>\n",
       "      <td>5.83</td>\n",
       "      <td>5.13</td>\n",
       "      <td>4.97</td>\n",
       "      <td>5.04</td>\n",
       "      <td>5.81</td>\n",
       "    </tr>\n",
       "    <tr>\n",
       "      <th>BIG</th>\n",
       "      <td>4.62</td>\n",
       "      <td>4.40</td>\n",
       "      <td>4.31</td>\n",
       "      <td>4.75</td>\n",
       "      <td>5.64</td>\n",
       "    </tr>\n",
       "  </tbody>\n",
       "</table>\n",
       "</div>"
      ],
      "text/plain": [
       "       LoBM   BM2   BM3   BM4  HiBM\n",
       "SMALL  7.96  6.97  6.05  5.84  6.30\n",
       "ME2    7.16  6.04  5.52  5.36  6.22\n",
       "ME3    6.56  5.51  5.03  5.10  5.86\n",
       "ME4    5.83  5.13  4.97  5.04  5.81\n",
       "BIG    4.62  4.40  4.31  4.75  5.64"
      ]
     },
     "execution_count": 73,
     "metadata": {},
     "output_type": "execute_result"
    }
   ],
   "source": [
    "#creates return table from sum table\n",
    "stdev_table = create_table(stdev)\n",
    "stdev_table"
   ]
  },
  {
   "cell_type": "markdown",
   "metadata": {},
   "source": [
    "### COMPUTE PORTFOLIOS SHARPE RATIOS"
   ]
  },
  {
   "cell_type": "code",
   "execution_count": 76,
   "metadata": {},
   "outputs": [],
   "source": [
    "risk_free = pd.read_csv(r'RF_Data.csv',parse_dates= True,index_col='DATE',infer_datetime_format=True)\n",
    "avg_risk_free = risk_free['RF'].mean()"
   ]
  },
  {
   "cell_type": "code",
   "execution_count": 78,
   "metadata": {},
   "outputs": [],
   "source": [
    "avg_returns = []\n",
    "for i in portfolio.columns:\n",
    "    avg_returns_i = round(np.mean(portfolio[i]),2)\n",
    "    avg_returns.append(avg_returns_i)\n",
    "\n",
    "avg_returns = pd.DataFrame(avg_returns)"
   ]
  },
  {
   "cell_type": "code",
   "execution_count": 79,
   "metadata": {},
   "outputs": [
    {
     "data": {
      "text/html": [
       "<div>\n",
       "<style scoped>\n",
       "    .dataframe tbody tr th:only-of-type {\n",
       "        vertical-align: middle;\n",
       "    }\n",
       "\n",
       "    .dataframe tbody tr th {\n",
       "        vertical-align: top;\n",
       "    }\n",
       "\n",
       "    .dataframe thead th {\n",
       "        text-align: right;\n",
       "    }\n",
       "</style>\n",
       "<table border=\"1\" class=\"dataframe\">\n",
       "  <thead>\n",
       "    <tr style=\"text-align: right;\">\n",
       "      <th></th>\n",
       "      <th>LoBM</th>\n",
       "      <th>BM2</th>\n",
       "      <th>BM3</th>\n",
       "      <th>BM4</th>\n",
       "      <th>HiBM</th>\n",
       "    </tr>\n",
       "  </thead>\n",
       "  <tbody>\n",
       "    <tr>\n",
       "      <th>SMALL</th>\n",
       "      <td>0.76</td>\n",
       "      <td>1.24</td>\n",
       "      <td>1.20</td>\n",
       "      <td>1.39</td>\n",
       "      <td>1.51</td>\n",
       "    </tr>\n",
       "    <tr>\n",
       "      <th>ME2</th>\n",
       "      <td>0.97</td>\n",
       "      <td>1.21</td>\n",
       "      <td>1.26</td>\n",
       "      <td>1.28</td>\n",
       "      <td>1.41</td>\n",
       "    </tr>\n",
       "    <tr>\n",
       "      <th>ME3</th>\n",
       "      <td>0.97</td>\n",
       "      <td>1.20</td>\n",
       "      <td>1.14</td>\n",
       "      <td>1.27</td>\n",
       "      <td>1.38</td>\n",
       "    </tr>\n",
       "    <tr>\n",
       "      <th>ME4</th>\n",
       "      <td>1.07</td>\n",
       "      <td>1.05</td>\n",
       "      <td>1.10</td>\n",
       "      <td>1.22</td>\n",
       "      <td>1.25</td>\n",
       "    </tr>\n",
       "    <tr>\n",
       "      <th>BIG</th>\n",
       "      <td>0.96</td>\n",
       "      <td>0.94</td>\n",
       "      <td>0.97</td>\n",
       "      <td>0.89</td>\n",
       "      <td>1.05</td>\n",
       "    </tr>\n",
       "  </tbody>\n",
       "</table>\n",
       "</div>"
      ],
      "text/plain": [
       "       LoBM   BM2   BM3   BM4  HiBM\n",
       "SMALL  0.76  1.24  1.20  1.39  1.51\n",
       "ME2    0.97  1.21  1.26  1.28  1.41\n",
       "ME3    0.97  1.20  1.14  1.27  1.38\n",
       "ME4    1.07  1.05  1.10  1.22  1.25\n",
       "BIG    0.96  0.94  0.97  0.89  1.05"
      ]
     },
     "execution_count": 79,
     "metadata": {},
     "output_type": "execute_result"
    }
   ],
   "source": [
    "#creates return table from sum table\n",
    "avg_returns_table = create_table(avg_returns)\n",
    "avg_returns_table"
   ]
  },
  {
   "cell_type": "code",
   "execution_count": 80,
   "metadata": {},
   "outputs": [],
   "source": [
    "sharpe_ratio = []\n",
    "for i in range(0,5):\n",
    "    for j in range(0,5):\n",
    "        sharpe_ratio_ij = round((avg_returns_table.iloc[i,j] - avg_risk_free)/stdev_table.iloc[i,j],2)\n",
    "        sharpe_ratio.append(sharpe_ratio_ij)\n",
    "    \n",
    "sharpe_ratio = pd.DataFrame(sharpe_ratio)"
   ]
  },
  {
   "cell_type": "code",
   "execution_count": 82,
   "metadata": {},
   "outputs": [
    {
     "data": {
      "text/html": [
       "<div>\n",
       "<style scoped>\n",
       "    .dataframe tbody tr th:only-of-type {\n",
       "        vertical-align: middle;\n",
       "    }\n",
       "\n",
       "    .dataframe tbody tr th {\n",
       "        vertical-align: top;\n",
       "    }\n",
       "\n",
       "    .dataframe thead th {\n",
       "        text-align: right;\n",
       "    }\n",
       "</style>\n",
       "<table border=\"1\" class=\"dataframe\">\n",
       "  <thead>\n",
       "    <tr style=\"text-align: right;\">\n",
       "      <th></th>\n",
       "      <th>LoBM</th>\n",
       "      <th>BM2</th>\n",
       "      <th>BM3</th>\n",
       "      <th>BM4</th>\n",
       "      <th>HiBM</th>\n",
       "    </tr>\n",
       "  </thead>\n",
       "  <tbody>\n",
       "    <tr>\n",
       "      <th>SMALL</th>\n",
       "      <td>0.05</td>\n",
       "      <td>0.12</td>\n",
       "      <td>0.14</td>\n",
       "      <td>0.17</td>\n",
       "      <td>0.18</td>\n",
       "    </tr>\n",
       "    <tr>\n",
       "      <th>ME2</th>\n",
       "      <td>0.08</td>\n",
       "      <td>0.14</td>\n",
       "      <td>0.16</td>\n",
       "      <td>0.17</td>\n",
       "      <td>0.17</td>\n",
       "    </tr>\n",
       "    <tr>\n",
       "      <th>ME3</th>\n",
       "      <td>0.09</td>\n",
       "      <td>0.15</td>\n",
       "      <td>0.15</td>\n",
       "      <td>0.18</td>\n",
       "      <td>0.17</td>\n",
       "    </tr>\n",
       "    <tr>\n",
       "      <th>ME4</th>\n",
       "      <td>0.12</td>\n",
       "      <td>0.13</td>\n",
       "      <td>0.15</td>\n",
       "      <td>0.17</td>\n",
       "      <td>0.15</td>\n",
       "    </tr>\n",
       "    <tr>\n",
       "      <th>BIG</th>\n",
       "      <td>0.13</td>\n",
       "      <td>0.13</td>\n",
       "      <td>0.14</td>\n",
       "      <td>0.11</td>\n",
       "      <td>0.12</td>\n",
       "    </tr>\n",
       "  </tbody>\n",
       "</table>\n",
       "</div>"
      ],
      "text/plain": [
       "       LoBM   BM2   BM3   BM4  HiBM\n",
       "SMALL  0.05  0.12  0.14  0.17  0.18\n",
       "ME2    0.08  0.14  0.16  0.17  0.17\n",
       "ME3    0.09  0.15  0.15  0.18  0.17\n",
       "ME4    0.12  0.13  0.15  0.17  0.15\n",
       "BIG    0.13  0.13  0.14  0.11  0.12"
      ]
     },
     "execution_count": 82,
     "metadata": {},
     "output_type": "execute_result"
    }
   ],
   "source": [
    "#creates return table from sum table\n",
    "sharpe_ratio_table = create_table(sharpe_ratio)\n",
    "sharpe_ratio_table"
   ]
  },
  {
   "cell_type": "markdown",
   "metadata": {},
   "source": [
    "COMPUTE T-STATISTICS FOR EACH PORTFOLIO"
   ]
  },
  {
   "cell_type": "code",
   "execution_count": 83,
   "metadata": {},
   "outputs": [],
   "source": [
    "true_mean = 0\n",
    "t_statistic = []\n",
    "for i in range(0,5):\n",
    "    for j in range(0,5):\n",
    "        t_ij = round((avg_returns_table.iloc[i,j] - true_mean)/stdev_table.iloc[i,j],2)\n",
    "        t_statistic.append(t_ij)\n",
    "\n",
    "t_statistic = pd.DataFrame(t_statistic)"
   ]
  },
  {
   "cell_type": "code",
   "execution_count": 84,
   "metadata": {},
   "outputs": [
    {
     "data": {
      "text/html": [
       "<div>\n",
       "<style scoped>\n",
       "    .dataframe tbody tr th:only-of-type {\n",
       "        vertical-align: middle;\n",
       "    }\n",
       "\n",
       "    .dataframe tbody tr th {\n",
       "        vertical-align: top;\n",
       "    }\n",
       "\n",
       "    .dataframe thead th {\n",
       "        text-align: right;\n",
       "    }\n",
       "</style>\n",
       "<table border=\"1\" class=\"dataframe\">\n",
       "  <thead>\n",
       "    <tr style=\"text-align: right;\">\n",
       "      <th></th>\n",
       "      <th>LoBM</th>\n",
       "      <th>BM2</th>\n",
       "      <th>BM3</th>\n",
       "      <th>BM4</th>\n",
       "      <th>HiBM</th>\n",
       "    </tr>\n",
       "  </thead>\n",
       "  <tbody>\n",
       "    <tr>\n",
       "      <th>SMALL</th>\n",
       "      <td>0.10</td>\n",
       "      <td>0.18</td>\n",
       "      <td>0.20</td>\n",
       "      <td>0.24</td>\n",
       "      <td>0.24</td>\n",
       "    </tr>\n",
       "    <tr>\n",
       "      <th>ME2</th>\n",
       "      <td>0.14</td>\n",
       "      <td>0.20</td>\n",
       "      <td>0.23</td>\n",
       "      <td>0.24</td>\n",
       "      <td>0.23</td>\n",
       "    </tr>\n",
       "    <tr>\n",
       "      <th>ME3</th>\n",
       "      <td>0.15</td>\n",
       "      <td>0.22</td>\n",
       "      <td>0.23</td>\n",
       "      <td>0.25</td>\n",
       "      <td>0.24</td>\n",
       "    </tr>\n",
       "    <tr>\n",
       "      <th>ME4</th>\n",
       "      <td>0.18</td>\n",
       "      <td>0.20</td>\n",
       "      <td>0.22</td>\n",
       "      <td>0.24</td>\n",
       "      <td>0.22</td>\n",
       "    </tr>\n",
       "    <tr>\n",
       "      <th>BIG</th>\n",
       "      <td>0.21</td>\n",
       "      <td>0.21</td>\n",
       "      <td>0.23</td>\n",
       "      <td>0.19</td>\n",
       "      <td>0.19</td>\n",
       "    </tr>\n",
       "  </tbody>\n",
       "</table>\n",
       "</div>"
      ],
      "text/plain": [
       "       LoBM   BM2   BM3   BM4  HiBM\n",
       "SMALL  0.10  0.18  0.20  0.24  0.24\n",
       "ME2    0.14  0.20  0.23  0.24  0.23\n",
       "ME3    0.15  0.22  0.23  0.25  0.24\n",
       "ME4    0.18  0.20  0.22  0.24  0.22\n",
       "BIG    0.21  0.21  0.23  0.19  0.19"
      ]
     },
     "execution_count": 84,
     "metadata": {},
     "output_type": "execute_result"
    }
   ],
   "source": [
    "#creates return table from sum table\n",
    "t_stat_table = create_table(t_statistic)\n",
    "t_stat_table"
   ]
  },
  {
   "cell_type": "code",
   "execution_count": 88,
   "metadata": {},
   "outputs": [],
   "source": [
    "q5_minus_q1 = portfolio['BIG HiBM'] - portfolio['SMALL LoBM']\n",
    "avg_q5_minus_q1 = np.mean(q5_minus_q1)\n",
    "stdev_q5_minus_q1 = np.sqrt(st.variance(q5_minus_q1))"
   ]
  },
  {
   "cell_type": "code",
   "execution_count": null,
   "metadata": {},
   "outputs": [],
   "source": []
  }
 ],
 "metadata": {
  "interpreter": {
   "hash": "9893d0d66172980042d4d5dae4d7be4a6b30989c1ec411bdce01437cbe181d3a"
  },
  "kernelspec": {
   "display_name": "Python 3",
   "language": "python",
   "name": "python3"
  },
  "language_info": {
   "codemirror_mode": {
    "name": "ipython",
    "version": 3
   },
   "file_extension": ".py",
   "mimetype": "text/x-python",
   "name": "python",
   "nbconvert_exporter": "python",
   "pygments_lexer": "ipython3",
   "version": "3.8.2"
  }
 },
 "nbformat": 4,
 "nbformat_minor": 2
}
