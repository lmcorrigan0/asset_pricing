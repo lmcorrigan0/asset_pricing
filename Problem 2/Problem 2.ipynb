{
 "cells": [
  {
   "cell_type": "markdown",
   "metadata": {},
   "source": [
    "## Problem 2 - Asset Pricing - Group Assignment"
   ]
  },
  {
   "cell_type": "code",
   "execution_count": 7,
   "metadata": {},
   "outputs": [],
   "source": [
    "# Libraries we will need\n",
    "# (same as the ones we use in Problem 1)\n",
    "\n",
    "import numpy as np\n",
    "import pandas as pd\n",
    "import statsmodels.api as sm\n",
    "import matplotlib as plt\n",
    "import openpyxl as opl\n",
    "import statistics as st\n",
    "import scipy as sp\n",
    "\n",
    "# Read data\n",
    "portfolio = pd.read_csv('../Problem 1/25_Portfolios_5x5.csv', parse_dates= True, index_col='DATE', infer_datetime_format=True)\n",
    "portfolio.index = pd.to_datetime(portfolio.index, format=\"%Y%m\")\n",
    "\n"
   ]
  }
 ],
 "metadata": {
  "interpreter": {
   "hash": "d4733a951bb5e90d26f22edece7158aab1dcccbb408c894e8f7b963dceb6360a"
  },
  "kernelspec": {
   "display_name": "Python 3.8.8 64-bit ('base': conda)",
   "language": "python",
   "name": "python3"
  },
  "language_info": {
   "codemirror_mode": {
    "name": "ipython",
    "version": 3
   },
   "file_extension": ".py",
   "mimetype": "text/x-python",
   "name": "python",
   "nbconvert_exporter": "python",
   "pygments_lexer": "ipython3",
   "version": "3.8.8"
  },
  "orig_nbformat": 4
 },
 "nbformat": 4,
 "nbformat_minor": 2
}
