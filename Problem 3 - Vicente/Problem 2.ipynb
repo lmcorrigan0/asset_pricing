{
 "cells": [
  {
   "cell_type": "markdown",
   "metadata": {},
   "source": [
    "## Problem 3 - Asset Pricing - Group Assignment"
   ]
  },
  {
   "cell_type": "code",
   "execution_count": 60,
   "metadata": {},
   "outputs": [],
   "source": [
    "# Libraries we will need\n",
    "# (same as the ones we use in Problem 1)\n",
    "\n",
    "import numpy as np\n",
    "import pandas as pd\n",
    "import statsmodels.api as sm\n",
    "import matplotlib as plt\n",
    "import openpyxl as opl\n",
    "import statistics as st\n",
    "import scipy as sp\n",
    "\n",
    "# Read data\n",
    "portfolio = pd.read_csv('../Problem1/data/25_Portfolios_5x5.csv', parse_dates= True, index_col='DATE', infer_datetime_format=True)\n",
    "portfolio.index = pd.to_datetime(portfolio.index, format=\"%Y%m\")\n",
    "\n",
    "# Calculate average returns\n",
    "\n",
    "inv_df = pd.read_csv('Portfolios_Formed_on_INV.csv',  index_col = \"DATE\")\n",
    "inv_df.index = pd.to_datetime(inv_df.index, format=\"%Y%m\")\n",
    "\n",
    "inv_df['RM'] = np.round((inv_df['Lo 30'] + inv_df['Med 40'] + inv_df['Hi 30'])/3,4)\n",
    "\n",
    "risk_free = pd.read_csv('../Problem1/data/RF_Data.csv', index_col = \"DATE\")\n",
    "risk_free.index = pd.to_datetime(risk_free.index, format = \"%Y%m\")\n",
    "\n",
    "\n",
    "# Merge together\n",
    "#df = pd.merge(left = portfolio, right = inv_df, how = 'inner', on = 'DATE')\n",
    "df = pd.merge(left = inv_df, right = risk_free, how = \"inner\", on = \"DATE\")\n",
    "\n",
    "\n",
    "# Excess returns\n",
    "\n",
    "df[\"Lo 10\"] = df[\"Lo 10\"] - df[\"RF\"]\n",
    "df[\"2-Dec\"] = df[\"2-Dec\"] - df[\"RF\"]\n",
    "df[\"3-Dec\"] = df[\"3-Dec\"] - df[\"RF\"]\n",
    "df[\"4-Dec\"] = df[\"4-Dec\"] - df[\"RF\"]\n",
    "df[\"5-Dec\"] = df[\"5-Dec\"] - df[\"RF\"]\n",
    "df[\"6-Dec\"] = df[\"6-Dec\"] - df[\"RF\"]\n",
    "df[\"7-Dec\"] = df[\"7-Dec\"] - df[\"RF\"]\n",
    "df[\"8-Dec\"] = df[\"8-Dec\"] - df[\"RF\"]\n",
    "df[\"9-Dec\"] = df[\"9-Dec\"] - df[\"RF\"]\n",
    "df[\"Hi 10\"] = df[\"Hi 10\"] - df[\"RF\"]\n",
    "df[\"RM\"] = df[\"RM\"] - df[\"RF\"]\n"
   ]
  },
  {
   "cell_type": "code",
   "execution_count": 72,
   "metadata": {},
   "outputs": [
    {
     "name": "stdout",
     "output_type": "stream",
     "text": [
      "                            OLS Regression Results                            \n",
      "==============================================================================\n",
      "Dep. Variable:                  Lo 10   R-squared:                       0.842\n",
      "Model:                            OLS   Adj. R-squared:                  0.841\n",
      "Method:                 Least Squares   F-statistic:                     3686.\n",
      "Date:                Wed, 02 Feb 2022   Prob (F-statistic):          7.53e-280\n",
      "Time:                        14:43:22   Log-Likelihood:                -1510.3\n",
      "No. Observations:                 696   AIC:                             3025.\n",
      "Df Residuals:                     694   BIC:                             3034.\n",
      "Df Model:                           1                                         \n",
      "Covariance Type:            nonrobust                                         \n",
      "==============================================================================\n",
      "                 coef    std err          t      P>|t|      [0.025      0.975]\n",
      "------------------------------------------------------------------------------\n",
      "const          0.0937      0.081      1.153      0.249      -0.066       0.253\n",
      "RM             1.0999      0.018     60.713      0.000       1.064       1.136\n",
      "==============================================================================\n",
      "Omnibus:                       57.775   Durbin-Watson:                   1.846\n",
      "Prob(Omnibus):                  0.000   Jarque-Bera (JB):              169.325\n",
      "Skew:                           0.386   Prob(JB):                     1.70e-37\n",
      "Kurtosis:                       5.290   Cond. No.                         4.54\n",
      "==============================================================================\n",
      "\n",
      "Notes:\n",
      "[1] Standard Errors assume that the covariance matrix of the errors is correctly specified.\n",
      "     var     alpha      beta\n",
      "0  Lo 10  0.093678  1.099949\n",
      "0  2-Dec  0.168413  0.989825\n",
      "0  3-Dec  0.156622  0.905828\n",
      "0  4-Dec  0.036969  0.884579\n",
      "0  5-Dec  0.039157  0.886664\n",
      "0  6-Dec -0.003823  0.930106\n",
      "0  7-Dec  0.011245  0.933687\n",
      "0  8-Dec -0.011485  1.018711\n",
      "0  9-Dec -0.052407  1.119136\n",
      "0  Hi 10 -0.383085  1.268571\n"
     ]
    }
   ],
   "source": [
    "# Regression dataset\n",
    "\n",
    "reg_df = df[[\"RM\",\"Lo 10\", \"2-Dec\", \"3-Dec\", \"4-Dec\", \"5-Dec\", \"6-Dec\", \"7-Dec\", \"8-Dec\", \"9-Dec\", \"Hi 10\"]]\n",
    "reg_df\n",
    "# Estimate CAPM regression for each investment decile\n",
    "import statsmodels.api as sm\n",
    "\n",
    "output_df = pd.DataFrame(columns = [\"var\",\"alpha\", \"beta\"])\n",
    "\n",
    "#factors = sm.add_constant(df['RM'])\n",
    "#all_results = {}\n",
    "#mod = sm.OLS(df[reg_df.columns[2]], factors)\n",
    "#res = mod.fit(cov_type=\"HC0\")\n",
    "\n",
    "for i in reg_df.columns:\n",
    "    if(i != 'RM'):\n",
    "        factors = sm.add_constant(reg_df['RM'])\n",
    "        mod = sm.OLS(reg_df[i], factors)\n",
    "        res = mod.fit(cov_type=\"HC0\")\n",
    "        aux_df = {\"var\": [i], \"alpha\": [res.params['const']], \"beta\": [res.params['RM']]}\n",
    "        aux_df = pd.DataFrame(aux_df)\n",
    "        output_df = output_df.append(aux_df)\n",
    "\n",
    "factors = sm.add_constant(reg_df['RM'])\n",
    "mod = sm.OLS(reg_df[reg_df.columns[1]], factors)\n",
    "print(mod.fit().summary())\n",
    "print(output_df)"
   ]
  },
  {
   "cell_type": "code",
   "execution_count": 99,
   "metadata": {},
   "outputs": [
    {
     "data": {
      "image/png": "[encoded data removed]",
      "text/plain": [
       "<Figure size 1152x432 with 1 Axes>"
      ]
     },
     "metadata": {},
     "output_type": "display_data"
    }
   ],
   "source": [
    "# Plot results\n",
    "%matplotlib inline\n",
    "import matplotlib.pyplot as plt\n",
    "import seaborn as sns\n",
    "\n",
    "sns.set_style(\"darkgrid\")\n",
    "\n",
    "fig = plt.figure(figsize=(16, 6))\n",
    "fig = plt.plot(output_df['var'], output_df['alpha'], 'o')\n",
    "#output_df['aux_seq'] = np.linspace(1,len(output_df), len(output_df))\n",
    "output_df['seq'] = np.array([1,2,3,4,5,6,7,8,9,10])\n",
    "m, b = np.polyfit(np.array(output_df['seq']), np.array(output_df['alpha']), 1) # Linear regression\n",
    "output_df['line'] = m*output_df['seq'] + b\n",
    "fig = plt.plot(output_df['var'], output_df['line'])\n"
   ]
  }
 ],
 "metadata": {
  "interpreter": {
   "hash": "d4733a951bb5e90d26f22edece7158aab1dcccbb408c894e8f7b963dceb6360a"
  },
  "kernelspec": {
   "display_name": "Python 3.8.8 64-bit ('base': conda)",
   "language": "python",
   "name": "python3"
  },
  "language_info": {
   "codemirror_mode": {
    "name": "ipython",
    "version": 3
   },
   "file_extension": ".py",
   "mimetype": "text/x-python",
   "name": "python",
   "nbconvert_exporter": "python",
   "pygments_lexer": "ipython3",
   "version": "3.8.8"
  },
  "orig_nbformat": 4
 },
 "nbformat": 4,
 "nbformat_minor": 2
}
